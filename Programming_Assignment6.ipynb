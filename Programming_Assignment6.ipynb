{
 "cells": [
  {
   "cell_type": "code",
   "execution_count": 1,
   "id": "8bffd995",
   "metadata": {},
   "outputs": [
    {
     "name": "stdout",
     "output_type": "stream",
     "text": [
      "Enter number of terms:6\n",
      "Fibonacci sequence:\n",
      "0\n",
      "1\n",
      "1\n",
      "2\n",
      "3\n",
      "5\n"
     ]
    }
   ],
   "source": [
    "#Q1 - print fibonacci sequence using recursion\n",
    "def fibonacci(n):\n",
    "    if(n <= 1):\n",
    "        return n\n",
    "    else:\n",
    "        return(fibonacci(n-1) + fibonacci(n-2))\n",
    "n = int(input(\"Enter number of terms:\"))\n",
    "print(\"Fibonacci sequence:\")\n",
    "for i in range(n):\n",
    "    print(fibonacci(i))"
   ]
  },
  {
   "cell_type": "code",
   "execution_count": 3,
   "id": "fede4760",
   "metadata": {},
   "outputs": [
    {
     "name": "stdout",
     "output_type": "stream",
     "text": [
      "Factorial is 40320\n"
     ]
    }
   ],
   "source": [
    "#Q2 - print factorial using recursion\n",
    "def factorial(n):\n",
    "    if n==1:\n",
    "        return n\n",
    "    else:\n",
    "        return (factorial(n-1)*n)\n",
    "    \n",
    "print(\"Factorial is\", factorial(8))"
   ]
  },
  {
   "cell_type": "code",
   "execution_count": 14,
   "id": "3cf235b1",
   "metadata": {},
   "outputs": [
    {
     "name": "stdout",
     "output_type": "stream",
     "text": [
      "Enter your height in meters1.64\n",
      "Enter your weight68\n",
      "The BMI is 25.282569898869724"
     ]
    }
   ],
   "source": [
    "#Q3 - print BMI \n",
    "\n",
    "def BMI(height, weight):\n",
    "    bmi = weight/(height**2)\n",
    "    return bmi\n",
    "\n",
    "height = float(input(\"Enter your height in meters\"))\n",
    "weight = float(input(\"Enter your weight\"))\n",
    "\n",
    "\n",
    "bmi = BMI(height, weight)\n",
    "print(\"The BMI is\", format(bmi), end='')\n"
   ]
  },
  {
   "cell_type": "code",
   "execution_count": 18,
   "id": "99918974",
   "metadata": {},
   "outputs": [
    {
     "name": "stdout",
     "output_type": "stream",
     "text": [
      "Enter a positive number2\n",
      "Natural log of 2 is 0.6931471805599453\n"
     ]
    }
   ],
   "source": [
    "#Q4 - print natural log of a number\n",
    "import math\n",
    " \n",
    "n = int(input(\"Enter a positive number\"))\n",
    "if n>0:\n",
    "    print(\"Natural log of %d is\" %n, math.log(n) )\n",
    "else:\n",
    "    print(\"you have entered a negative number\")"
   ]
  },
  {
   "cell_type": "code",
   "execution_count": 21,
   "id": "b70065b9",
   "metadata": {},
   "outputs": [
    {
     "name": "stdout",
     "output_type": "stream",
     "text": [
      "Enter the limit23\n",
      "Cube sum of 23 natural numbers is  76176\n"
     ]
    }
   ],
   "source": [
    "#Q5 - cube sum of first n natural numbers\n",
    "import math\n",
    "\n",
    "n = int(input(\"Enter the limit\"))\n",
    "sum = 0\n",
    "for i in range(n+1):\n",
    "    sum = sum + math.pow(i,3)\n",
    "\n",
    "print(\"Cube sum of %d natural numbers is \" %n, int(sum))"
   ]
  },
  {
   "cell_type": "code",
   "execution_count": null,
   "id": "38a371aa",
   "metadata": {},
   "outputs": [],
   "source": []
  }
 ],
 "metadata": {
  "kernelspec": {
   "display_name": "Python 3 (ipykernel)",
   "language": "python",
   "name": "python3"
  },
  "language_info": {
   "codemirror_mode": {
    "name": "ipython",
    "version": 3
   },
   "file_extension": ".py",
   "mimetype": "text/x-python",
   "name": "python",
   "nbconvert_exporter": "python",
   "pygments_lexer": "ipython3",
   "version": "3.9.12"
  }
 },
 "nbformat": 4,
 "nbformat_minor": 5
}
