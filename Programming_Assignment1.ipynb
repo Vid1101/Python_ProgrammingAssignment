{
 "cells": [
  {
   "cell_type": "code",
   "execution_count": 1,
   "id": "fb1772ed",
   "metadata": {},
   "outputs": [
    {
     "name": "stdout",
     "output_type": "stream",
     "text": [
      "Hello Python\n"
     ]
    }
   ],
   "source": [
    "print(\"Hello Python\")"
   ]
  },
  {
   "cell_type": "code",
   "execution_count": 7,
   "id": "8f89168c",
   "metadata": {},
   "outputs": [
    {
     "name": "stdout",
     "output_type": "stream",
     "text": [
      "enter first number23\n",
      "enter second number45\n",
      "Sum is: 68\n"
     ]
    }
   ],
   "source": [
    "a = int(input(\"enter first number\"))\n",
    "b = int(input(\"enter second number\"))\n",
    "print(\"Sum is:\",a+b)"
   ]
  },
  {
   "cell_type": "code",
   "execution_count": 8,
   "id": "08b98dad",
   "metadata": {},
   "outputs": [
    {
     "name": "stdout",
     "output_type": "stream",
     "text": [
      "enter the base56\n",
      "enter the height24\n",
      "Area of triangle : 672.0\n"
     ]
    }
   ],
   "source": [
    "a = int(input(\"enter the base\"))\n",
    "b = int(input(\"enter the height\"))\n",
    "print(\"Area of triangle :\", 0.5*a*b)"
   ]
  },
  {
   "cell_type": "code",
   "execution_count": 9,
   "id": "b87b9c96",
   "metadata": {},
   "outputs": [
    {
     "name": "stdout",
     "output_type": "stream",
     "text": [
      "Enter first number5 \n",
      "Enter second number8\n",
      "Before swap a & b 5 8\n",
      "Swaped values of a & b 8 5\n"
     ]
    }
   ],
   "source": [
    "a = int(input(\"Enter first number\"))\n",
    "b = int(input(\"Enter second number\"))\n",
    "print(\"Before swap a & b\", a, b)\n",
    "temp = b\n",
    "b = a\n",
    "a = temp\n",
    "print(\"Swaped values of a & b\", a, b)"
   ]
  },
  {
   "cell_type": "code",
   "execution_count": 10,
   "id": "37f7f2ed",
   "metadata": {},
   "outputs": [
    {
     "name": "stdout",
     "output_type": "stream",
     "text": [
      "A random number between 0 and 1 is : 0.6803564809889954\n"
     ]
    }
   ],
   "source": [
    "import random\n",
    " \n",
    "# using random() to generate a random number\n",
    "# between 0 and 1\n",
    "print(\"A random number between 0 and 1 is : \", end=\"\")\n",
    "print(random.random())"
   ]
  },
  {
   "cell_type": "code",
   "execution_count": null,
   "id": "05e8da4c",
   "metadata": {},
   "outputs": [],
   "source": []
  }
 ],
 "metadata": {
  "kernelspec": {
   "display_name": "Python 3 (ipykernel)",
   "language": "python",
   "name": "python3"
  },
  "language_info": {
   "codemirror_mode": {
    "name": "ipython",
    "version": 3
   },
   "file_extension": ".py",
   "mimetype": "text/x-python",
   "name": "python",
   "nbconvert_exporter": "python",
   "pygments_lexer": "ipython3",
   "version": "3.9.12"
  }
 },
 "nbformat": 4,
 "nbformat_minor": 5
}
