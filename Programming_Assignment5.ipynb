{
 "cells": [
  {
   "cell_type": "code",
   "execution_count": 1,
   "id": "0958d41f",
   "metadata": {},
   "outputs": [
    {
     "name": "stdout",
     "output_type": "stream",
     "text": [
      "Enter first number5\n",
      "Enter second number7\n",
      "LCM of 5 and 7 is 35.0\n"
     ]
    }
   ],
   "source": [
    "#Q1 Python program to find LCM of two numbers\n",
    "\n",
    "def gcd(a,b):\n",
    "    if a == 0:\n",
    "        return b\n",
    "    return gcd(b % a, a)\n",
    "\n",
    "def lcm(a,b):\n",
    "    return (a / gcd(a,b))* b\n",
    "\n",
    "a = int(input(\"Enter first number\"))\n",
    "b = int(input(\"Enter second number\"))\n",
    "print('LCM of', a, 'and', b, 'is', lcm(a, b))\n",
    "\n"
   ]
  },
  {
   "cell_type": "code",
   "execution_count": 5,
   "id": "5160e0b0",
   "metadata": {},
   "outputs": [
    {
     "name": "stdout",
     "output_type": "stream",
     "text": [
      "Enter first number60\n",
      "Enter second number48\n",
      "The gcd of 60 and 48 is : 12\n"
     ]
    }
   ],
   "source": [
    "#Q2 Python program to find HCF of 2 numbers\n",
    "\n",
    "def computeGCD(x, y):\n",
    "\n",
    "    while(y):\n",
    "        x, y = y, x % y\n",
    "    return abs(x)\n",
    "\n",
    "a = int(input(\"Enter first number\"))\n",
    "b = int(input(\"Enter second number\"))\n",
    "\n",
    "print (\"The gcd of %d and %d is : \"%(a,b),end=\"\")\n",
    "print (computeGCD(a, b))\n"
   ]
  },
  {
   "cell_type": "code",
   "execution_count": 6,
   "id": "5bf6bf29",
   "metadata": {},
   "outputs": [
    {
     "name": "stdout",
     "output_type": "stream",
     "text": [
      "Enter a decimal number34\n",
      "The decimal value of 34 is:\n",
      "0b100010 in binary.\n",
      "0o42 in octal.\n",
      "0x22 in hexadecimal.\n"
     ]
    }
   ],
   "source": [
    "#Q3 Python program to convert decimal into other number systems\n",
    "dec = int(input(\"Enter a decimal number\"))\n",
    "\n",
    "print(\"The decimal value of\", dec, \"is:\")\n",
    "print(bin(dec), \"in binary.\")\n",
    "print(oct(dec), \"in octal.\")\n",
    "print(hex(dec), \"in hexadecimal.\")"
   ]
  },
  {
   "cell_type": "code",
   "execution_count": 7,
   "id": "9dc1c552",
   "metadata": {},
   "outputs": [
    {
     "name": "stdout",
     "output_type": "stream",
     "text": [
      "Enter any characterv\n",
      "The ASCII value of 'v' is 118\n"
     ]
    }
   ],
   "source": [
    "#Q4 Python program to print ascii value of character\n",
    "c = input(\"Enter any character\")\n",
    "print(\"The ASCII value of '\" + c + \"' is\", ord(c))"
   ]
  },
  {
   "cell_type": "code",
   "execution_count": 9,
   "id": "53c74e6d",
   "metadata": {},
   "outputs": [
    {
     "name": "stdout",
     "output_type": "stream",
     "text": [
      "Enter a number80\n",
      "Enter another number4\n",
      "which action do you wish to perform? Choose from '+','-','*','/'\n",
      "Enter the action/\n",
      "Division is  20\n"
     ]
    }
   ],
   "source": [
    "#Q5 simple calculator to perform 4 mathematical function\n",
    "a = int(input(\"Enter a number\"))\n",
    "b = int(input(\"Enter another number\"))\n",
    "\n",
    "print(\"which action do you wish to perform? Choose from '+','-','*','/'\")\n",
    "action = input(\"Enter the action\")\n",
    "if action == '+':\n",
    "    print(\"Sum is: \", a+b)\n",
    "elif action == '-':\n",
    "    print(\"Difference is \", a-b)\n",
    "elif action == '*':\n",
    "    print(\"Mutliplication is \", a*b)\n",
    "else:\n",
    "    print(\"Division is \", a//b)"
   ]
  },
  {
   "cell_type": "code",
   "execution_count": null,
   "id": "9857de81",
   "metadata": {},
   "outputs": [],
   "source": []
  }
 ],
 "metadata": {
  "kernelspec": {
   "display_name": "Python 3 (ipykernel)",
   "language": "python",
   "name": "python3"
  },
  "language_info": {
   "codemirror_mode": {
    "name": "ipython",
    "version": 3
   },
   "file_extension": ".py",
   "mimetype": "text/x-python",
   "name": "python",
   "nbconvert_exporter": "python",
   "pygments_lexer": "ipython3",
   "version": "3.9.12"
  }
 },
 "nbformat": 4,
 "nbformat_minor": 5
}
