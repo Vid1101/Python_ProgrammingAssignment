{
 "cells": [
  {
   "cell_type": "code",
   "execution_count": 1,
   "id": "2e0f1f8e",
   "metadata": {},
   "outputs": [
    {
     "name": "stdout",
     "output_type": "stream",
     "text": [
      "Array sum = 340\n"
     ]
    }
   ],
   "source": [
    "#1. Write a Python Program to find sum of array?\n",
    "# sample array to operate l = [34, 23, 98, 12, 7, 67, 36, 53, 9, 1]\n",
    "l = [34, 23, 98, 12, 7, 67, 36, 53, 9, 1]\n",
    "sum = 0\n",
    "for i in l:\n",
    "    sum = sum+i\n",
    "print(\"Array sum = {}\".format(sum))"
   ]
  },
  {
   "cell_type": "code",
   "execution_count": 2,
   "id": "0fbfc5be",
   "metadata": {},
   "outputs": [
    {
     "name": "stdout",
     "output_type": "stream",
     "text": [
      "98\n"
     ]
    }
   ],
   "source": [
    "maximum = 0\n",
    "for i in l:\n",
    "    if maximum < i:\n",
    "        maximum = i\n",
    "print(maximum)"
   ]
  },
  {
   "cell_type": "code",
   "execution_count": 12,
   "id": "5a3886d9",
   "metadata": {},
   "outputs": [
    {
     "name": "stdout",
     "output_type": "stream",
     "text": [
      "Enter array rotation value3\n",
      "[12, 7, 67, 36, 53, 9, 1, 34, 23, 98]\n"
     ]
    }
   ],
   "source": [
    "#Write a Python Program for array rotation?\n",
    "r = int(input(\"Enter array rotation value\"))\n",
    "temp = []\n",
    "arr = []\n",
    "for i in range(r):\n",
    "    temp.append(l[i])\n",
    "for i in l[r:]:\n",
    "    arr.append(i)\n",
    "for i in temp:\n",
    "    arr.append(i)\n",
    "print(arr)"
   ]
  },
  {
   "cell_type": "code",
   "execution_count": 14,
   "id": "9fe30189",
   "metadata": {},
   "outputs": [
    {
     "name": "stdout",
     "output_type": "stream",
     "text": [
      "[7, 67, 36, 53, 9, 1, 34, 23, 98, 12]\n"
     ]
    }
   ],
   "source": [
    "#Write a Python Program to Split the array and add the first part to the end?\n",
    "#lets say the split is at index 4\n",
    "r = 4\n",
    "arr = []\n",
    "arr = l[r:]+l[:r]\n",
    "print(arr)"
   ]
  },
  {
   "cell_type": "code",
   "execution_count": 21,
   "id": "84f61711",
   "metadata": {},
   "outputs": [
    {
     "data": {
      "text/plain": [
       "True"
      ]
     },
     "execution_count": 21,
     "metadata": {},
     "output_type": "execute_result"
    }
   ],
   "source": [
    "#Write a Python Program to check if given array is Monotonic?\n",
    "def isMonotonic(A):\n",
    "        return (all(A[i] <= A[i+1] for i in range(len(A) - 1)) or\n",
    "                all(A[i] >= A[i+1] for i in range(len(A) - 1)))\n",
    "isMonotonic([1,2,3,4,5])"
   ]
  },
  {
   "cell_type": "code",
   "execution_count": null,
   "id": "7ffc33f6",
   "metadata": {},
   "outputs": [],
   "source": []
  }
 ],
 "metadata": {
  "kernelspec": {
   "display_name": "Python 3 (ipykernel)",
   "language": "python",
   "name": "python3"
  },
  "language_info": {
   "codemirror_mode": {
    "name": "ipython",
    "version": 3
   },
   "file_extension": ".py",
   "mimetype": "text/x-python",
   "name": "python",
   "nbconvert_exporter": "python",
   "pygments_lexer": "ipython3",
   "version": "3.9.12"
  }
 },
 "nbformat": 4,
 "nbformat_minor": 5
}
