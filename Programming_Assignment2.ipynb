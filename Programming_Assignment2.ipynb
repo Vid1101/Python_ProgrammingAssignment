{
 "cells": [
  {
   "cell_type": "code",
   "execution_count": 1,
   "id": "f048f862",
   "metadata": {},
   "outputs": [
    {
     "name": "stdout",
     "output_type": "stream",
     "text": [
      "Enter the distance in kilometers10\n",
      "The distance in miles is  6.21371\n"
     ]
    }
   ],
   "source": [
    "#Q1 - program to convert kilometers to miles\n",
    "km = int(input(\"Enter the distance in kilometers\"))\n",
    "miles = km*0.621371\n",
    "print(\"The distance in miles is \", miles)"
   ]
  },
  {
   "cell_type": "code",
   "execution_count": 2,
   "id": "163edb81",
   "metadata": {},
   "outputs": [
    {
     "name": "stdout",
     "output_type": "stream",
     "text": [
      "Enter a temprature value in celcius23\n",
      "The temprature in fahrenheit is 73.4\n"
     ]
    }
   ],
   "source": [
    "#Q2 - program to convert celcius to fahrenheit\n",
    "cel = int(input(\"Enter a temprature value in celcius\"))\n",
    "fa = (cel*1.8)+32\n",
    "print(\"The temprature in fahrenheit is\", fa)"
   ]
  },
  {
   "cell_type": "code",
   "execution_count": 4,
   "id": "419d8336",
   "metadata": {},
   "outputs": [
    {
     "name": "stdout",
     "output_type": "stream",
     "text": [
      "Enter year: 1920\n",
      "Enter month: 03\n",
      "     March 1920\n",
      "Mo Tu We Th Fr Sa Su\n",
      " 1  2  3  4  5  6  7\n",
      " 8  9 10 11 12 13 14\n",
      "15 16 17 18 19 20 21\n",
      "22 23 24 25 26 27 28\n",
      "29 30 31\n",
      "\n"
     ]
    }
   ],
   "source": [
    "#Q3 - Program to display calendar of the given month and year\n",
    "\n",
    "# importing calendar module\n",
    "import calendar\n",
    "\n",
    "yy = int(input(\"Enter year: \"))\n",
    "mm = int(input(\"Enter month: \"))\n",
    "\n",
    "# display the calendar\n",
    "print(calendar.month(yy, mm))"
   ]
  },
  {
   "cell_type": "code",
   "execution_count": 5,
   "id": "c5720c47",
   "metadata": {},
   "outputs": [
    {
     "name": "stdout",
     "output_type": "stream",
     "text": [
      "Enter a: 1\n",
      "Enter b: 2\n",
      "Enter c: 1\n",
      "The solution are (-1+0j) and (-1+0j)\n"
     ]
    }
   ],
   "source": [
    "#Q4 - to solve quadratic equation\n",
    "import cmath  \n",
    "a = float(input('Enter a: '))  \n",
    "b = float(input('Enter b: '))  \n",
    "c = float(input('Enter c: '))  \n",
    "d = (b**2) - (4*a*c)  \n",
    " \n",
    "sol1 = (-b-cmath.sqrt(d))/(2*a)  \n",
    "sol2 = (-b+cmath.sqrt(d))/(2*a)  \n",
    "print('The solution are {0} and {1}'.format(sol1,sol2))   "
   ]
  },
  {
   "cell_type": "code",
   "execution_count": 6,
   "id": "47c5988b",
   "metadata": {},
   "outputs": [
    {
     "name": "stdout",
     "output_type": "stream",
     "text": [
      "Enter a4\n",
      "Enter b7\n",
      "Before swap a & b 4 7\n",
      "After swap a & b 7 4\n"
     ]
    }
   ],
   "source": [
    "#Q5 - to swap without third variable\n",
    "a = int(input(\"Enter a\"))\n",
    "b = int(input(\"Enter b\"))\n",
    "print(\"Before swap a & b\", a, b)\n",
    "a = a+b\n",
    "b = a-b\n",
    "a = a-b\n",
    "print(\"After swap a & b\", a, b)"
   ]
  },
  {
   "cell_type": "code",
   "execution_count": null,
   "id": "986a2383",
   "metadata": {},
   "outputs": [],
   "source": []
  }
 ],
 "metadata": {
  "kernelspec": {
   "display_name": "Python 3 (ipykernel)",
   "language": "python",
   "name": "python3"
  },
  "language_info": {
   "codemirror_mode": {
    "name": "ipython",
    "version": 3
   },
   "file_extension": ".py",
   "mimetype": "text/x-python",
   "name": "python",
   "nbconvert_exporter": "python",
   "pygments_lexer": "ipython3",
   "version": "3.9.12"
  }
 },
 "nbformat": 4,
 "nbformat_minor": 5
}
